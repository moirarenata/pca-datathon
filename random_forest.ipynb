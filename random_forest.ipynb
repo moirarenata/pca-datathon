{
 "cells": [
  {
   "cell_type": "code",
   "execution_count": 1,
   "id": "24ef4129-91c4-436d-917c-80ffc1b449a7",
   "metadata": {
    "tags": []
   },
   "outputs": [],
   "source": [
    "import pandas as pd"
   ]
  },
  {
   "cell_type": "code",
   "execution_count": 26,
   "id": "05cf3829-9592-4a26-a78b-a577e16ccd74",
   "metadata": {},
   "outputs": [],
   "source": [
    "train = pd.read_csv('train.csv')\n",
    "train.head(5)\n",
    "test = pd.read_csv(\"test_masked.csv\")"
   ]
  },
  {
   "cell_type": "code",
   "execution_count": 44,
   "id": "cd20c38b-ffd5-479c-9df8-f8386cd09821",
   "metadata": {
    "tags": []
   },
   "outputs": [
    {
     "data": {
      "text/html": [
       "<div>\n",
       "<style scoped>\n",
       "    .dataframe tbody tr th:only-of-type {\n",
       "        vertical-align: middle;\n",
       "    }\n",
       "\n",
       "    .dataframe tbody tr th {\n",
       "        vertical-align: top;\n",
       "    }\n",
       "\n",
       "    .dataframe thead th {\n",
       "        text-align: right;\n",
       "    }\n",
       "</style>\n",
       "<table border=\"1\" class=\"dataframe\">\n",
       "  <thead>\n",
       "    <tr style=\"text-align: right;\">\n",
       "      <th></th>\n",
       "      <th>lat</th>\n",
       "      <th>lon</th>\n",
       "      <th>n_asset</th>\n",
       "      <th>asset_index</th>\n",
       "      <th>cluster_id</th>\n",
       "      <th>adm1dhs</th>\n",
       "      <th>urban</th>\n",
       "    </tr>\n",
       "  </thead>\n",
       "  <tbody>\n",
       "    <tr>\n",
       "      <th>0</th>\n",
       "      <td>9.220903</td>\n",
       "      <td>92.781530</td>\n",
       "      <td>22.0</td>\n",
       "      <td>2.721812</td>\n",
       "      <td>10009</td>\n",
       "      <td>1</td>\n",
       "      <td>1</td>\n",
       "    </tr>\n",
       "    <tr>\n",
       "      <th>1</th>\n",
       "      <td>7.028410</td>\n",
       "      <td>93.883430</td>\n",
       "      <td>20.0</td>\n",
       "      <td>2.287279</td>\n",
       "      <td>10011</td>\n",
       "      <td>1</td>\n",
       "      <td>1</td>\n",
       "    </tr>\n",
       "    <tr>\n",
       "      <th>2</th>\n",
       "      <td>12.371448</td>\n",
       "      <td>92.783665</td>\n",
       "      <td>22.0</td>\n",
       "      <td>0.677109</td>\n",
       "      <td>10017</td>\n",
       "      <td>1</td>\n",
       "      <td>1</td>\n",
       "    </tr>\n",
       "    <tr>\n",
       "      <th>3</th>\n",
       "      <td>11.727304</td>\n",
       "      <td>92.719257</td>\n",
       "      <td>21.0</td>\n",
       "      <td>1.793683</td>\n",
       "      <td>10044</td>\n",
       "      <td>1</td>\n",
       "      <td>1</td>\n",
       "    </tr>\n",
       "    <tr>\n",
       "      <th>4</th>\n",
       "      <td>9.185310</td>\n",
       "      <td>92.777645</td>\n",
       "      <td>22.0</td>\n",
       "      <td>2.758168</td>\n",
       "      <td>10060</td>\n",
       "      <td>1</td>\n",
       "      <td>1</td>\n",
       "    </tr>\n",
       "  </tbody>\n",
       "</table>\n",
       "</div>"
      ],
      "text/plain": [
       "         lat        lon  n_asset  asset_index  cluster_id  adm1dhs  urban\n",
       "0   9.220903  92.781530     22.0     2.721812       10009        1      1\n",
       "1   7.028410  93.883430     20.0     2.287279       10011        1      1\n",
       "2  12.371448  92.783665     22.0     0.677109       10017        1      1\n",
       "3  11.727304  92.719257     21.0     1.793683       10044        1      1\n",
       "4   9.185310  92.777645     22.0     2.758168       10060        1      1"
      ]
     },
     "execution_count": 44,
     "metadata": {},
     "output_type": "execute_result"
    }
   ],
   "source": [
    "clean_train = train.drop(['year', 'cname', 'path', 'DHSID_EA' , 'n_water'], axis = \"columns\")\n",
    "clean_train['urban'] = clean_train['urban'].replace({'R': 1, 'U': 0})\n",
    "clean_train.head()\n",
    "\n",
    "clean_test = test.drop(['year', 'cname', 'path', 'DHSID_EA'], axis = \"columns\")\n",
    "clean_test['urban'] = test['urban'].replace({'R': 1, 'U': 0})\n",
    "clean_test.head()\n"
   ]
  },
  {
   "cell_type": "code",
   "execution_count": 45,
   "id": "247f62b6-8459-4d39-89ec-b6936c12c3d0",
   "metadata": {
    "tags": []
   },
   "outputs": [
    {
     "data": {
      "text/html": [
       "<div>\n",
       "<style scoped>\n",
       "    .dataframe tbody tr th:only-of-type {\n",
       "        vertical-align: middle;\n",
       "    }\n",
       "\n",
       "    .dataframe tbody tr th {\n",
       "        vertical-align: top;\n",
       "    }\n",
       "\n",
       "    .dataframe thead th {\n",
       "        text-align: right;\n",
       "    }\n",
       "</style>\n",
       "<table border=\"1\" class=\"dataframe\">\n",
       "  <thead>\n",
       "    <tr style=\"text-align: right;\">\n",
       "      <th></th>\n",
       "      <th>lat</th>\n",
       "      <th>lon</th>\n",
       "      <th>n_asset</th>\n",
       "      <th>asset_index</th>\n",
       "      <th>water_index</th>\n",
       "      <th>cluster_id</th>\n",
       "      <th>adm1dhs</th>\n",
       "      <th>urban</th>\n",
       "    </tr>\n",
       "  </thead>\n",
       "  <tbody>\n",
       "    <tr>\n",
       "      <th>0</th>\n",
       "      <td>9.165413</td>\n",
       "      <td>92.742696</td>\n",
       "      <td>22.0</td>\n",
       "      <td>2.650768</td>\n",
       "      <td>5.000000</td>\n",
       "      <td>10004</td>\n",
       "      <td>1</td>\n",
       "      <td>1</td>\n",
       "    </tr>\n",
       "    <tr>\n",
       "      <th>1</th>\n",
       "      <td>8.307356</td>\n",
       "      <td>93.093792</td>\n",
       "      <td>22.0</td>\n",
       "      <td>2.157784</td>\n",
       "      <td>5.000000</td>\n",
       "      <td>10005</td>\n",
       "      <td>1</td>\n",
       "      <td>1</td>\n",
       "    </tr>\n",
       "    <tr>\n",
       "      <th>2</th>\n",
       "      <td>7.016968</td>\n",
       "      <td>93.893226</td>\n",
       "      <td>21.0</td>\n",
       "      <td>1.832751</td>\n",
       "      <td>4.619048</td>\n",
       "      <td>10007</td>\n",
       "      <td>1</td>\n",
       "      <td>1</td>\n",
       "    </tr>\n",
       "    <tr>\n",
       "      <th>3</th>\n",
       "      <td>9.194938</td>\n",
       "      <td>92.800432</td>\n",
       "      <td>22.0</td>\n",
       "      <td>2.746096</td>\n",
       "      <td>5.000000</td>\n",
       "      <td>10016</td>\n",
       "      <td>1</td>\n",
       "      <td>1</td>\n",
       "    </tr>\n",
       "    <tr>\n",
       "      <th>4</th>\n",
       "      <td>8.055606</td>\n",
       "      <td>93.543892</td>\n",
       "      <td>22.0</td>\n",
       "      <td>2.581869</td>\n",
       "      <td>5.000000</td>\n",
       "      <td>10018</td>\n",
       "      <td>1</td>\n",
       "      <td>1</td>\n",
       "    </tr>\n",
       "    <tr>\n",
       "      <th>...</th>\n",
       "      <td>...</td>\n",
       "      <td>...</td>\n",
       "      <td>...</td>\n",
       "      <td>...</td>\n",
       "      <td>...</td>\n",
       "      <td>...</td>\n",
       "      <td>...</td>\n",
       "      <td>...</td>\n",
       "    </tr>\n",
       "    <tr>\n",
       "      <th>18717</th>\n",
       "      <td>17.184983</td>\n",
       "      <td>79.989186</td>\n",
       "      <td>22.0</td>\n",
       "      <td>0.629311</td>\n",
       "      <td>4.272727</td>\n",
       "      <td>360473</td>\n",
       "      <td>36</td>\n",
       "      <td>1</td>\n",
       "    </tr>\n",
       "    <tr>\n",
       "      <th>18718</th>\n",
       "      <td>17.465781</td>\n",
       "      <td>78.418820</td>\n",
       "      <td>20.0</td>\n",
       "      <td>2.704372</td>\n",
       "      <td>5.000000</td>\n",
       "      <td>360475</td>\n",
       "      <td>36</td>\n",
       "      <td>0</td>\n",
       "    </tr>\n",
       "    <tr>\n",
       "      <th>18719</th>\n",
       "      <td>17.939231</td>\n",
       "      <td>79.512509</td>\n",
       "      <td>17.0</td>\n",
       "      <td>1.315361</td>\n",
       "      <td>4.882353</td>\n",
       "      <td>360480</td>\n",
       "      <td>36</td>\n",
       "      <td>1</td>\n",
       "    </tr>\n",
       "    <tr>\n",
       "      <th>18720</th>\n",
       "      <td>17.420175</td>\n",
       "      <td>78.491013</td>\n",
       "      <td>23.0</td>\n",
       "      <td>2.920893</td>\n",
       "      <td>5.000000</td>\n",
       "      <td>360481</td>\n",
       "      <td>36</td>\n",
       "      <td>0</td>\n",
       "    </tr>\n",
       "    <tr>\n",
       "      <th>18721</th>\n",
       "      <td>17.313331</td>\n",
       "      <td>79.963638</td>\n",
       "      <td>21.0</td>\n",
       "      <td>0.985008</td>\n",
       "      <td>3.761905</td>\n",
       "      <td>360482</td>\n",
       "      <td>36</td>\n",
       "      <td>1</td>\n",
       "    </tr>\n",
       "  </tbody>\n",
       "</table>\n",
       "<p>18722 rows × 8 columns</p>\n",
       "</div>"
      ],
      "text/plain": [
       "             lat        lon  n_asset  asset_index  water_index  cluster_id  \\\n",
       "0       9.165413  92.742696     22.0     2.650768     5.000000       10004   \n",
       "1       8.307356  93.093792     22.0     2.157784     5.000000       10005   \n",
       "2       7.016968  93.893226     21.0     1.832751     4.619048       10007   \n",
       "3       9.194938  92.800432     22.0     2.746096     5.000000       10016   \n",
       "4       8.055606  93.543892     22.0     2.581869     5.000000       10018   \n",
       "...          ...        ...      ...          ...          ...         ...   \n",
       "18717  17.184983  79.989186     22.0     0.629311     4.272727      360473   \n",
       "18718  17.465781  78.418820     20.0     2.704372     5.000000      360475   \n",
       "18719  17.939231  79.512509     17.0     1.315361     4.882353      360480   \n",
       "18720  17.420175  78.491013     23.0     2.920893     5.000000      360481   \n",
       "18721  17.313331  79.963638     21.0     0.985008     3.761905      360482   \n",
       "\n",
       "       adm1dhs  urban  \n",
       "0            1      1  \n",
       "1            1      1  \n",
       "2            1      1  \n",
       "3            1      1  \n",
       "4            1      1  \n",
       "...        ...    ...  \n",
       "18717       36      1  \n",
       "18718       36      0  \n",
       "18719       36      1  \n",
       "18720       36      0  \n",
       "18721       36      1  \n",
       "\n",
       "[18722 rows x 8 columns]"
      ]
     },
     "execution_count": 45,
     "metadata": {},
     "output_type": "execute_result"
    }
   ],
   "source": [
    "#pip install -U scikit-learn\n",
    "clean_train"
   ]
  },
  {
   "cell_type": "code",
   "execution_count": 46,
   "id": "28e2b326-1a58-4f41-b663-05460f1c4e2a",
   "metadata": {
    "tags": []
   },
   "outputs": [],
   "source": [
    "from sklearn.model_selection import train_test_split\n"
   ]
  },
  {
   "cell_type": "code",
   "execution_count": 47,
   "id": "70ea4cb0-a1f2-4323-89e3-2d662977f3eb",
   "metadata": {},
   "outputs": [],
   "source": [
    "import numpy as np\n",
    "# Labels are the values we want to predict\n",
    "# labels = np.array(clean_train['water_index'])\n",
    "\n",
    "# Saving feature names for later use\n",
    "# train_list = list(clean_train.columns)\n",
    "\n",
    "# Convert to numpy array\n",
    "# clean_train = np.array(clean_train)\n"
   ]
  },
  {
   "cell_type": "code",
   "execution_count": 48,
   "id": "6182224b-7869-4dc8-b6dc-283d3dc36e3e",
   "metadata": {
    "tags": []
   },
   "outputs": [],
   "source": [
    "train_x = clean_train.drop('water_index', axis = \"columns\")\n",
    "train_labels = clean_train['water_index']\n",
    "\n",
    "# Convert to numpy array\n",
    "train_x = np.array(train_x)\n",
    "test_x = np.array(clean_test)\n"
   ]
  },
  {
   "cell_type": "code",
   "execution_count": 49,
   "id": "a8b1a017-ac8b-4a14-b67d-d57999229b6f",
   "metadata": {
    "tags": []
   },
   "outputs": [
    {
     "name": "stdout",
     "output_type": "stream",
     "text": [
      "Training Features Shape: (18722, 7)\n",
      "Training Labels Shape: (18722,)\n",
      "Testing Features Shape: (2675, 7)\n"
     ]
    }
   ],
   "source": [
    "print('Training Features Shape:', train_x.shape)\n",
    "print('Training Labels Shape:', train_labels.shape)\n",
    "print('Testing Features Shape:', test_x.shape)\n"
   ]
  },
  {
   "cell_type": "code",
   "execution_count": 50,
   "id": "591158a6-8bfc-474d-855d-ebb7dfda9ac4",
   "metadata": {
    "tags": []
   },
   "outputs": [
    {
     "data": {
      "text/html": [
       "<style>#sk-container-id-5 {color: black;background-color: white;}#sk-container-id-5 pre{padding: 0;}#sk-container-id-5 div.sk-toggleable {background-color: white;}#sk-container-id-5 label.sk-toggleable__label {cursor: pointer;display: block;width: 100%;margin-bottom: 0;padding: 0.3em;box-sizing: border-box;text-align: center;}#sk-container-id-5 label.sk-toggleable__label-arrow:before {content: \"▸\";float: left;margin-right: 0.25em;color: #696969;}#sk-container-id-5 label.sk-toggleable__label-arrow:hover:before {color: black;}#sk-container-id-5 div.sk-estimator:hover label.sk-toggleable__label-arrow:before {color: black;}#sk-container-id-5 div.sk-toggleable__content {max-height: 0;max-width: 0;overflow: hidden;text-align: left;background-color: #f0f8ff;}#sk-container-id-5 div.sk-toggleable__content pre {margin: 0.2em;color: black;border-radius: 0.25em;background-color: #f0f8ff;}#sk-container-id-5 input.sk-toggleable__control:checked~div.sk-toggleable__content {max-height: 200px;max-width: 100%;overflow: auto;}#sk-container-id-5 input.sk-toggleable__control:checked~label.sk-toggleable__label-arrow:before {content: \"▾\";}#sk-container-id-5 div.sk-estimator input.sk-toggleable__control:checked~label.sk-toggleable__label {background-color: #d4ebff;}#sk-container-id-5 div.sk-label input.sk-toggleable__control:checked~label.sk-toggleable__label {background-color: #d4ebff;}#sk-container-id-5 input.sk-hidden--visually {border: 0;clip: rect(1px 1px 1px 1px);clip: rect(1px, 1px, 1px, 1px);height: 1px;margin: -1px;overflow: hidden;padding: 0;position: absolute;width: 1px;}#sk-container-id-5 div.sk-estimator {font-family: monospace;background-color: #f0f8ff;border: 1px dotted black;border-radius: 0.25em;box-sizing: border-box;margin-bottom: 0.5em;}#sk-container-id-5 div.sk-estimator:hover {background-color: #d4ebff;}#sk-container-id-5 div.sk-parallel-item::after {content: \"\";width: 100%;border-bottom: 1px solid gray;flex-grow: 1;}#sk-container-id-5 div.sk-label:hover label.sk-toggleable__label {background-color: #d4ebff;}#sk-container-id-5 div.sk-serial::before {content: \"\";position: absolute;border-left: 1px solid gray;box-sizing: border-box;top: 0;bottom: 0;left: 50%;z-index: 0;}#sk-container-id-5 div.sk-serial {display: flex;flex-direction: column;align-items: center;background-color: white;padding-right: 0.2em;padding-left: 0.2em;position: relative;}#sk-container-id-5 div.sk-item {position: relative;z-index: 1;}#sk-container-id-5 div.sk-parallel {display: flex;align-items: stretch;justify-content: center;background-color: white;position: relative;}#sk-container-id-5 div.sk-item::before, #sk-container-id-5 div.sk-parallel-item::before {content: \"\";position: absolute;border-left: 1px solid gray;box-sizing: border-box;top: 0;bottom: 0;left: 50%;z-index: -1;}#sk-container-id-5 div.sk-parallel-item {display: flex;flex-direction: column;z-index: 1;position: relative;background-color: white;}#sk-container-id-5 div.sk-parallel-item:first-child::after {align-self: flex-end;width: 50%;}#sk-container-id-5 div.sk-parallel-item:last-child::after {align-self: flex-start;width: 50%;}#sk-container-id-5 div.sk-parallel-item:only-child::after {width: 0;}#sk-container-id-5 div.sk-dashed-wrapped {border: 1px dashed gray;margin: 0 0.4em 0.5em 0.4em;box-sizing: border-box;padding-bottom: 0.4em;background-color: white;}#sk-container-id-5 div.sk-label label {font-family: monospace;font-weight: bold;display: inline-block;line-height: 1.2em;}#sk-container-id-5 div.sk-label-container {text-align: center;}#sk-container-id-5 div.sk-container {/* jupyter's `normalize.less` sets `[hidden] { display: none; }` but bootstrap.min.css set `[hidden] { display: none !important; }` so we also need the `!important` here to be able to override the default hidden behavior on the sphinx rendered scikit-learn.org. See: https://github.com/scikit-learn/scikit-learn/issues/21755 */display: inline-block !important;position: relative;}#sk-container-id-5 div.sk-text-repr-fallback {display: none;}</style><div id=\"sk-container-id-5\" class=\"sk-top-container\"><div class=\"sk-text-repr-fallback\"><pre>RandomForestRegressor(random_state=42)</pre><b>In a Jupyter environment, please rerun this cell to show the HTML representation or trust the notebook. <br />On GitHub, the HTML representation is unable to render, please try loading this page with nbviewer.org.</b></div><div class=\"sk-container\" hidden><div class=\"sk-item\"><div class=\"sk-estimator sk-toggleable\"><input class=\"sk-toggleable__control sk-hidden--visually\" id=\"sk-estimator-id-5\" type=\"checkbox\" checked><label for=\"sk-estimator-id-5\" class=\"sk-toggleable__label sk-toggleable__label-arrow\">RandomForestRegressor</label><div class=\"sk-toggleable__content\"><pre>RandomForestRegressor(random_state=42)</pre></div></div></div></div></div>"
      ],
      "text/plain": [
       "RandomForestRegressor(random_state=42)"
      ]
     },
     "execution_count": 50,
     "metadata": {},
     "output_type": "execute_result"
    }
   ],
   "source": [
    "from sklearn.ensemble import RandomForestRegressor\n",
    "rf = RandomForestRegressor(n_estimators = 100, random_state = 42)\n",
    "rf.fit(train_x, train_labels)"
   ]
  },
  {
   "cell_type": "code",
   "execution_count": 53,
   "id": "8b2e3789-6aa3-4f1f-8499-c53c28845c4a",
   "metadata": {
    "tags": []
   },
   "outputs": [],
   "source": [
    "# Use the forest's predict method on the test data\n",
    "predictions = rf.predict(test_x)\n",
    "# Calculate the absolute errors\n",
    "#errors = abs(predictions - test_labels)\n",
    "# Print out the mean absolute error (mae)\n",
    "#print('Mean Absolute Error:', np.mean(errors), 'degrees.')\n",
    "#len(predictions)"
   ]
  },
  {
   "cell_type": "code",
   "execution_count": null,
   "id": "54f30816-f3c8-4538-8fea-ff030d8c512f",
   "metadata": {
    "tags": []
   },
   "outputs": [],
   "source": []
  },
  {
   "cell_type": "code",
   "execution_count": 74,
   "id": "f38e21f6-449c-4795-819c-e0a32b7c7343",
   "metadata": {
    "tags": []
   },
   "outputs": [
    {
     "name": "stdout",
     "output_type": "stream",
     "text": [
      "                DHSID_EA  water_index\n",
      "0     IA-2015-7-00010009     4.998615\n",
      "1     IA-2015-7-00010011     4.912992\n",
      "2     IA-2015-7-00010017     4.458461\n",
      "3     IA-2015-7-00010044     4.782032\n",
      "4     IA-2015-7-00010060     5.000000\n",
      "...                  ...          ...\n",
      "2670  IA-2015-7-00360403     4.983354\n",
      "2671  IA-2015-7-00360454     4.876577\n",
      "2672  IA-2015-7-00360474     4.825083\n",
      "2673  IA-2015-7-00360476     4.515127\n",
      "2674  IA-2015-7-00360479     4.192125\n",
      "\n",
      "[2675 rows x 2 columns]\n"
     ]
    }
   ],
   "source": [
    "solution_df = test.copy()\n",
    "solution_df[\"water_index\"] = predictions\n",
    "\n",
    "filtered_solution_df = solution_df[[\"DHSID_EA\", \"water_index\"]]\n",
    "print(filtered_solution_df)\n",
    "filtered_solution_df.to_csv(\"solution.csv\")\n",
    "#solution_df[\"water_index\"] = predictions\n",
    "#len(predictions)\n",
    "\n",
    "#ValueError: Length of values (18722) does not match length of index (2675)\n",
    "\n",
    "#length of predictions: 18722\n",
    "#length of values: 2675"
   ]
  }
 ],
 "metadata": {
  "kernelspec": {
   "display_name": "Python 3 (ipykernel)",
   "language": "python",
   "name": "python3"
  },
  "language_info": {
   "codemirror_mode": {
    "name": "ipython",
    "version": 3
   },
   "file_extension": ".py",
   "mimetype": "text/x-python",
   "name": "python",
   "nbconvert_exporter": "python",
   "pygments_lexer": "ipython3",
   "version": "3.10.9"
  }
 },
 "nbformat": 4,
 "nbformat_minor": 5
}
